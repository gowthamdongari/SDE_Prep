{
 "cells": [
  {
   "cell_type": "markdown",
   "id": "33aa981f",
   "metadata": {},
   "source": [
    "## Count Digits"
   ]
  },
  {
   "cell_type": "markdown",
   "id": "d54da000",
   "metadata": {},
   "source": [
    "### Striver"
   ]
  },
  {
   "cell_type": "code",
   "execution_count": 6,
   "id": "b3448317",
   "metadata": {},
   "outputs": [
    {
     "name": "stdout",
     "output_type": "stream",
     "text": [
      "Number of digits in  12345  is  5\n"
     ]
    }
   ],
   "source": [
    "def count_digits(n):\n",
    "    x = str(n)\n",
    "    return len(x)\n",
    "\n",
    "n = 12345\n",
    "print(\"Number of digits in \", n, \" is \", count_digits(n))"
   ]
  },
  {
   "cell_type": "markdown",
   "id": "ab1542e8",
   "metadata": {},
   "source": [
    "### GFG"
   ]
  },
  {
   "cell_type": "code",
   "execution_count": 2,
   "id": "1c91928a",
   "metadata": {},
   "outputs": [
    {
     "name": "stdout",
     "output_type": "stream",
     "text": [
      "23\n"
     ]
    },
    {
     "data": {
      "text/plain": [
       "0"
      ]
     },
     "execution_count": 2,
     "metadata": {},
     "output_type": "execute_result"
    }
   ],
   "source": [
    "def evenlyDivides (N):\n",
    "    result = 0\n",
    "    for num in range(len(str(N))):\n",
    "        div_num = int(str(N)[num])\n",
    "        if div_num != 0:\n",
    "            if N%div_num == 0:\n",
    "                result = result + 1\n",
    "    return result\n",
    "    \n",
    "N = int(input())\n",
    "evenlyDivides(N)"
   ]
  },
  {
   "cell_type": "code",
   "execution_count": 3,
   "id": "f18383b2",
   "metadata": {},
   "outputs": [
    {
     "name": "stdout",
     "output_type": "stream",
     "text": [
      "26435\n"
     ]
    },
    {
     "data": {
      "text/plain": [
       "1"
      ]
     },
     "execution_count": 3,
     "metadata": {},
     "output_type": "execute_result"
    }
   ],
   "source": [
    "def evenlyDivides (N):\n",
    "    result = 0\n",
    "    for num in range(len(str(N))):\n",
    "        div_num = int(str(N)[num])\n",
    "        if div_num != 0:\n",
    "            if N%div_num == 0:\n",
    "                result = result + 1\n",
    "    return result\n",
    "    \n",
    "N = int(input())\n",
    "evenlyDivides(N)"
   ]
  },
  {
   "cell_type": "code",
   "execution_count": null,
   "id": "1d83d31a",
   "metadata": {},
   "outputs": [],
   "source": []
  },
  {
   "cell_type": "markdown",
   "id": "406e08ab",
   "metadata": {},
   "source": [
    "## Reverse Bits"
   ]
  },
  {
   "cell_type": "markdown",
   "id": "e15e3399",
   "metadata": {},
   "source": [
    "### Striver"
   ]
  },
  {
   "cell_type": "code",
   "execution_count": 7,
   "id": "7e421a78",
   "metadata": {},
   "outputs": [
    {
     "name": "stdout",
     "output_type": "stream",
     "text": [
      "The reverse of the 123 is 321\n"
     ]
    }
   ],
   "source": [
    "N = 123\n",
    "num = N\n",
    "reverse = 0\n",
    "while N != 0:\n",
    "    digit = N % 10\n",
    "    reverse = reverse * 10 + digit\n",
    "    N = N // 10\n",
    "print(\"The reverse of the {} is {}\".format(num, reverse))"
   ]
  },
  {
   "cell_type": "code",
   "execution_count": 8,
   "id": "24c273cb",
   "metadata": {},
   "outputs": [
    {
     "name": "stdout",
     "output_type": "stream",
     "text": [
      "The reverse of the 123 is 321\n"
     ]
    }
   ],
   "source": [
    "N = 123\n",
    "\n",
    "str_num = str(N)\n",
    "reverse_num = str_num[::-1]\n",
    "print(\"The reverse of the {} is {}\".format(N, reverse))"
   ]
  },
  {
   "cell_type": "markdown",
   "id": "40836a60",
   "metadata": {},
   "source": [
    "### GFG"
   ]
  },
  {
   "cell_type": "code",
   "execution_count": 4,
   "id": "ae1bebfe",
   "metadata": {},
   "outputs": [
    {
     "name": "stdout",
     "output_type": "stream",
     "text": [
      "1\n"
     ]
    },
    {
     "data": {
      "text/plain": [
       "2147483648"
      ]
     },
     "execution_count": 4,
     "metadata": {},
     "output_type": "execute_result"
    }
   ],
   "source": [
    "def reversedBits(X):\n",
    "    bin_32 = \"{:032b}\".format(X)\n",
    "    reverse_bin = bin_32[::-1]\n",
    "    int_reverse_num = int(reverse_bin,2)\n",
    "    return int_reverse_num\n",
    "\n",
    "X = int(input())\n",
    "reversedBits(X)"
   ]
  },
  {
   "cell_type": "code",
   "execution_count": 5,
   "id": "50af19b1",
   "metadata": {},
   "outputs": [
    {
     "name": "stdout",
     "output_type": "stream",
     "text": [
      "5\n"
     ]
    },
    {
     "data": {
      "text/plain": [
       "2684354560"
      ]
     },
     "execution_count": 5,
     "metadata": {},
     "output_type": "execute_result"
    }
   ],
   "source": [
    "def reversedBits(X):\n",
    "    bin_32 = \"{:032b}\".format(X)\n",
    "    reverse_bin = bin_32[::-1]\n",
    "    int_reverse_num = int(reverse_bin,2)\n",
    "    return int_reverse_num\n",
    "\n",
    "X = int(input())\n",
    "reversedBits(X)"
   ]
  },
  {
   "cell_type": "code",
   "execution_count": null,
   "id": "3d379ca1",
   "metadata": {},
   "outputs": [],
   "source": []
  },
  {
   "cell_type": "code",
   "execution_count": null,
   "id": "4194733d",
   "metadata": {},
   "outputs": [],
   "source": []
  },
  {
   "cell_type": "code",
   "execution_count": null,
   "id": "f1d5759c",
   "metadata": {},
   "outputs": [],
   "source": []
  },
  {
   "cell_type": "code",
   "execution_count": null,
   "id": "ddf0fe43",
   "metadata": {},
   "outputs": [],
   "source": []
  },
  {
   "cell_type": "code",
   "execution_count": null,
   "id": "cfd22ab2",
   "metadata": {},
   "outputs": [],
   "source": []
  },
  {
   "cell_type": "code",
   "execution_count": null,
   "id": "c935b63b",
   "metadata": {},
   "outputs": [],
   "source": []
  },
  {
   "cell_type": "code",
   "execution_count": null,
   "id": "59d1a2c3",
   "metadata": {},
   "outputs": [],
   "source": []
  },
  {
   "cell_type": "code",
   "execution_count": null,
   "id": "c7f2c1d1",
   "metadata": {},
   "outputs": [],
   "source": []
  }
 ],
 "metadata": {
  "kernelspec": {
   "display_name": "Python 3 (ipykernel)",
   "language": "python",
   "name": "python3"
  },
  "language_info": {
   "codemirror_mode": {
    "name": "ipython",
    "version": 3
   },
   "file_extension": ".py",
   "mimetype": "text/x-python",
   "name": "python",
   "nbconvert_exporter": "python",
   "pygments_lexer": "ipython3",
   "version": "3.9.12"
  }
 },
 "nbformat": 4,
 "nbformat_minor": 5
}
