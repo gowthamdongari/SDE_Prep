{
 "cells": [
  {
   "cell_type": "markdown",
   "id": "e4c8e3ad",
   "metadata": {},
   "source": [
    "# Reverse Integer"
   ]
  },
  {
   "cell_type": "markdown",
   "id": "bcdc582e",
   "metadata": {},
   "source": [
    "Given a signed 32-bit integer x, return x with its digits reversed. If reversing x causes the value to go outside the signed 32-bit integer range [-2 power 31, 2 power 31 - 1], then return 0.\n",
    "\n",
    "Assume the environment does not allow you to store 64-bit integers (signed or unsigned).\n",
    "\n",
    " \n",
    "\n",
    "Example 1:\n",
    "\n",
    "Input: x = 123\n",
    "Output: 321\n",
    "\n",
    "\n",
    "Example 2:\n",
    "\n",
    "Input: x = -123\n",
    "Output: -321"
   ]
  },
  {
   "cell_type": "code",
   "execution_count": 2,
   "id": "77bcb4e5",
   "metadata": {},
   "outputs": [
    {
     "name": "stdout",
     "output_type": "stream",
     "text": [
      "231\n"
     ]
    },
    {
     "data": {
      "text/plain": [
       "132"
      ]
     },
     "execution_count": 2,
     "metadata": {},
     "output_type": "execute_result"
    }
   ],
   "source": [
    "def reverse_integer(n):\n",
    "    reverse = 0\n",
    "    sign = -1 if n < 0 else 1\n",
    "    n = abs(n)\n",
    "    while n !=0:\n",
    "        digit = n%10\n",
    "        reverse = reverse*10 + digit\n",
    "        n = n//10\n",
    "    result = sign*reverse\n",
    "    if result > 2**31 or result < -(2**31):\n",
    "        return 0\n",
    "    return result\n",
    "\n",
    "n = int(input())\n",
    "reverse_integer(n)"
   ]
  },
  {
   "cell_type": "code",
   "execution_count": null,
   "id": "431f2284",
   "metadata": {},
   "outputs": [],
   "source": []
  },
  {
   "cell_type": "code",
   "execution_count": null,
   "id": "5cdc1582",
   "metadata": {},
   "outputs": [],
   "source": []
  },
  {
   "cell_type": "code",
   "execution_count": null,
   "id": "7cf4dc1f",
   "metadata": {},
   "outputs": [],
   "source": []
  },
  {
   "cell_type": "code",
   "execution_count": null,
   "id": "4215a1e8",
   "metadata": {},
   "outputs": [],
   "source": []
  },
  {
   "cell_type": "code",
   "execution_count": null,
   "id": "c0afc374",
   "metadata": {},
   "outputs": [],
   "source": []
  },
  {
   "cell_type": "code",
   "execution_count": null,
   "id": "1c99a0b5",
   "metadata": {},
   "outputs": [],
   "source": []
  },
  {
   "cell_type": "code",
   "execution_count": null,
   "id": "3f41d7bf",
   "metadata": {},
   "outputs": [],
   "source": []
  },
  {
   "cell_type": "code",
   "execution_count": null,
   "id": "15a47ddd",
   "metadata": {},
   "outputs": [],
   "source": []
  },
  {
   "cell_type": "code",
   "execution_count": null,
   "id": "ee73b71b",
   "metadata": {},
   "outputs": [],
   "source": []
  },
  {
   "cell_type": "code",
   "execution_count": null,
   "id": "6c7f7a82",
   "metadata": {},
   "outputs": [],
   "source": []
  },
  {
   "cell_type": "code",
   "execution_count": null,
   "id": "64a5c79b",
   "metadata": {},
   "outputs": [],
   "source": []
  },
  {
   "cell_type": "code",
   "execution_count": null,
   "id": "395db4e0",
   "metadata": {},
   "outputs": [],
   "source": []
  },
  {
   "cell_type": "code",
   "execution_count": null,
   "id": "46d6eee5",
   "metadata": {},
   "outputs": [],
   "source": []
  }
 ],
 "metadata": {
  "kernelspec": {
   "display_name": "Python 3 (ipykernel)",
   "language": "python",
   "name": "python3"
  },
  "language_info": {
   "codemirror_mode": {
    "name": "ipython",
    "version": 3
   },
   "file_extension": ".py",
   "mimetype": "text/x-python",
   "name": "python",
   "nbconvert_exporter": "python",
   "pygments_lexer": "ipython3",
   "version": "3.9.12"
  }
 },
 "nbformat": 4,
 "nbformat_minor": 5
}
