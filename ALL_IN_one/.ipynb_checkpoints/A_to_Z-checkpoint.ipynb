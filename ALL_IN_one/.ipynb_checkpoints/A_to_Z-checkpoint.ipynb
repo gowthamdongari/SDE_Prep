{
 "cells": [
  {
   "cell_type": "markdown",
   "id": "c438c604",
   "metadata": {},
   "source": [
    "# 1.4 Strivers Basics of math"
   ]
  },
  {
   "cell_type": "markdown",
   "id": "2b44ac7e",
   "metadata": {},
   "source": [
    "## count digits GFG"
   ]
  },
  {
   "cell_type": "code",
   "execution_count": 33,
   "id": "5aca647a",
   "metadata": {},
   "outputs": [
    {
     "name": "stdout",
     "output_type": "stream",
     "text": [
      "Number of digits in  12345  is  5\n"
     ]
    }
   ],
   "source": [
    "def count_digits(n):\n",
    "    x = str(n)\n",
    "    return len(x)\n",
    "\n",
    "n = 12345\n",
    "print(\"Number of digits in \", n, \" is \", count_digits(n))"
   ]
  },
  {
   "cell_type": "code",
   "execution_count": 3,
   "id": "7fbf3d24",
   "metadata": {},
   "outputs": [
    {
     "name": "stdout",
     "output_type": "stream",
     "text": [
      "0\n"
     ]
    }
   ],
   "source": [
    "n = 22\n",
    "y= 2\n",
    "\n",
    "# % -- this is used for finding remainder\n",
    "x = n%y\n",
    "print(x)"
   ]
  },
  {
   "cell_type": "code",
   "execution_count": 9,
   "id": "f45a61ef",
   "metadata": {},
   "outputs": [
    {
     "name": "stdout",
     "output_type": "stream",
     "text": [
      "12\n",
      "2\n"
     ]
    }
   ],
   "source": [
    "N = int(input())\n",
    "\n",
    "str_num = str(N)\n",
    "result = 0\n",
    "for num in range(len(str_num)):\n",
    "    div_str_num = str_num[num]\n",
    "    div_num = int(div_str_num)\n",
    "    if N%div_num == 0:\n",
    "        result = result + 1\n",
    "    else:\n",
    "        pass\n",
    "print(result)"
   ]
  },
  {
   "cell_type": "code",
   "execution_count": 16,
   "id": "521f301c",
   "metadata": {},
   "outputs": [
    {
     "name": "stdout",
     "output_type": "stream",
     "text": [
      "26435\n",
      "1\n"
     ]
    }
   ],
   "source": [
    "N = int(input())\n",
    "if 1<= N <= 10**5 :\n",
    "    result = 0\n",
    "    for num in range(len(str(N))):\n",
    "        div_num = int(str(N)[num])\n",
    "        if div_num != 0:\n",
    "            if N%div_num == 0:\n",
    "                result = result + 1\n",
    "            else:\n",
    "                pass\n",
    "    print(result)"
   ]
  },
  {
   "cell_type": "markdown",
   "id": "1e715556",
   "metadata": {},
   "source": [
    "## by using print at the end we are getting none as output for some reason so use return"
   ]
  },
  {
   "cell_type": "code",
   "execution_count": null,
   "id": "e4632b73",
   "metadata": {},
   "outputs": [],
   "source": [
    "\n",
    "class Solution:\n",
    "    def evenlyDivides (self, N):\n",
    "        result = 0\n",
    "        for num in range(len(str(N))):\n",
    "            div_num = int(str(N)[num])\n",
    "            if div_num != 0:\n",
    "                if N%div_num == 0:\n",
    "                    result = result + 1\n",
    "        return result"
   ]
  },
  {
   "cell_type": "code",
   "execution_count": null,
   "id": "28f9358c",
   "metadata": {},
   "outputs": [],
   "source": []
  },
  {
   "cell_type": "markdown",
   "id": "bff603e1",
   "metadata": {},
   "source": [
    "## Reverse Bits\n"
   ]
  },
  {
   "cell_type": "code",
   "execution_count": 35,
   "id": "bc82c862",
   "metadata": {},
   "outputs": [
    {
     "name": "stdout",
     "output_type": "stream",
     "text": [
      "The reverse of the 123 is 321\n"
     ]
    }
   ],
   "source": [
    "N = 123\n",
    "num = N\n",
    "reverse = 0\n",
    "while N != 0:\n",
    "    digit = N % 10\n",
    "    reverse = reverse * 10 + digit\n",
    "    N = N // 10\n",
    "print(\"The reverse of the {} is {}\".format(num, reverse))"
   ]
  },
  {
   "cell_type": "code",
   "execution_count": 36,
   "id": "89c36135",
   "metadata": {},
   "outputs": [
    {
     "name": "stdout",
     "output_type": "stream",
     "text": [
      "The reverse of the 123 is 321\n"
     ]
    }
   ],
   "source": [
    "N = 123\n",
    "\n",
    "str_num = str(N)\n",
    "reverse_num = str_num[::-1]\n",
    "print(\"The reverse of the {} is {}\".format(N, reverse))"
   ]
  },
  {
   "cell_type": "markdown",
   "id": "cae1c0dc",
   "metadata": {},
   "source": [
    "### GFG"
   ]
  },
  {
   "cell_type": "code",
   "execution_count": 17,
   "id": "a2a3583d",
   "metadata": {},
   "outputs": [
    {
     "ename": "SyntaxError",
     "evalue": "invalid syntax (4087306485.py, line 2)",
     "output_type": "error",
     "traceback": [
      "\u001b[1;36m  Input \u001b[1;32mIn [17]\u001b[1;36m\u001b[0m\n\u001b[1;33m    enter a number: 11001\u001b[0m\n\u001b[1;37m          ^\u001b[0m\n\u001b[1;31mSyntaxError\u001b[0m\u001b[1;31m:\u001b[0m invalid syntax\n"
     ]
    }
   ],
   "source": [
    "binary = raw_input('enter a number: ')\n",
    "enter a number: 11001\n",
    "int(binary, 2)"
   ]
  },
  {
   "cell_type": "code",
   "execution_count": 23,
   "id": "ae6e1473",
   "metadata": {},
   "outputs": [
    {
     "name": "stdout",
     "output_type": "stream",
     "text": [
      "1\n",
      "1\n"
     ]
    }
   ],
   "source": [
    "n = int(input())\n",
    "print('{0:b}'.format(n))"
   ]
  },
  {
   "cell_type": "code",
   "execution_count": null,
   "id": "cc396d35",
   "metadata": {},
   "outputs": [],
   "source": [
    "'{:032b}'.format(n) where n is an integer. If the binary representation is greater than 32 digits it will expand as necessary:\n",
    "\n",
    ">>> '{:032b}'.format(100)\n",
    "'00000000000000000000000001100100'\n",
    ">>> '{:032b}'.format(8589934591)\n",
    "'111111111111111111111111111111111'\n",
    ">>> '{:032b}'.format(8589934591 + 1)\n",
    "'1000000000000000000000000000000000'    # N.B. this is 33 digits long"
   ]
  },
  {
   "cell_type": "code",
   "execution_count": 28,
   "id": "b17ee98f",
   "metadata": {},
   "outputs": [
    {
     "name": "stdout",
     "output_type": "stream",
     "text": [
      "00000000000000000000000000000001\n",
      "10000000000000000000000000000000\n",
      "2147483648\n"
     ]
    }
   ],
   "source": [
    "x = 1\n",
    "\n",
    "bin_32 = \"{:032b}\".format(n)\n",
    "print(bin_32)\n",
    "reverse_bin = bin_32[::-1]\n",
    "print(reverse_bin)\n",
    "int_reverse_num = int(reverse_bin,2)\n",
    "print(int_reverse_num)"
   ]
  },
  {
   "cell_type": "code",
   "execution_count": 29,
   "id": "eb31da79",
   "metadata": {},
   "outputs": [
    {
     "name": "stdout",
     "output_type": "stream",
     "text": [
      "5\n",
      "2684354560\n"
     ]
    }
   ],
   "source": [
    "n = int(input())\n",
    "bin_32 = \"{:032b}\".format(n)\n",
    "reverse_bin = bin_32[::-1]\n",
    "int_reverse_num = int(reverse_bin,2)\n",
    "print(int_reverse_num)"
   ]
  },
  {
   "cell_type": "code",
   "execution_count": 30,
   "id": "c6f025d1",
   "metadata": {},
   "outputs": [
    {
     "name": "stdout",
     "output_type": "stream",
     "text": [
      "1\n"
     ]
    },
    {
     "data": {
      "text/plain": [
       "2147483648"
      ]
     },
     "execution_count": 30,
     "metadata": {},
     "output_type": "execute_result"
    }
   ],
   "source": [
    "def reversedBits(X):\n",
    "    bin_32 = \"{:032b}\".format(X)\n",
    "    reverse_bin = bin_32[::-1]\n",
    "    int_reverse_num = int(reverse_bin,2)\n",
    "    return int_reverse_num\n",
    "\n",
    "X = int(input())\n",
    "reversedBits(X)"
   ]
  },
  {
   "cell_type": "code",
   "execution_count": 32,
   "id": "8fb245e1",
   "metadata": {},
   "outputs": [
    {
     "name": "stdout",
     "output_type": "stream",
     "text": [
      "3\n",
      "32\n",
      "321\n",
      "321\n"
     ]
    }
   ],
   "source": [
    "N = 123\n",
    "num = N\n",
    "reverse = 0\n",
    "while N != 0:\n",
    "    digit = N % 10\n",
    "    reverse = reverse * 10 + digit\n",
    "    print(reverse)\n",
    "    N = N // 10\n",
    "print(reverse)"
   ]
  },
  {
   "cell_type": "code",
   "execution_count": null,
   "id": "26812511",
   "metadata": {},
   "outputs": [],
   "source": []
  },
  {
   "cell_type": "code",
   "execution_count": null,
   "id": "dea60be3",
   "metadata": {},
   "outputs": [],
   "source": []
  },
  {
   "cell_type": "code",
   "execution_count": null,
   "id": "6cd55c67",
   "metadata": {},
   "outputs": [],
   "source": []
  },
  {
   "cell_type": "code",
   "execution_count": null,
   "id": "2fadb82c",
   "metadata": {},
   "outputs": [],
   "source": []
  },
  {
   "cell_type": "code",
   "execution_count": null,
   "id": "a984a2ff",
   "metadata": {},
   "outputs": [],
   "source": []
  }
 ],
 "metadata": {
  "kernelspec": {
   "display_name": "Python 3 (ipykernel)",
   "language": "python",
   "name": "python3"
  },
  "language_info": {
   "codemirror_mode": {
    "name": "ipython",
    "version": 3
   },
   "file_extension": ".py",
   "mimetype": "text/x-python",
   "name": "python",
   "nbconvert_exporter": "python",
   "pygments_lexer": "ipython3",
   "version": "3.9.12"
  }
 },
 "nbformat": 4,
 "nbformat_minor": 5
}
