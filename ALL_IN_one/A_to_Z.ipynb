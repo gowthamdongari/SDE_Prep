{
 "cells": [
  {
   "cell_type": "markdown",
   "id": "ae3c30d7",
   "metadata": {},
   "source": [
    "# 1.4 Strivers Basics of math"
   ]
  },
  {
   "cell_type": "markdown",
   "id": "e1e70bc1",
   "metadata": {},
   "source": [
    "## count digits GFG"
   ]
  },
  {
   "cell_type": "code",
   "execution_count": 33,
   "id": "3734e944",
   "metadata": {},
   "outputs": [
    {
     "name": "stdout",
     "output_type": "stream",
     "text": [
      "Number of digits in  12345  is  5\n"
     ]
    }
   ],
   "source": [
    "def count_digits(n):\n",
    "    x = str(n)\n",
    "    return len(x)\n",
    "\n",
    "n = 12345\n",
    "print(\"Number of digits in \", n, \" is \", count_digits(n))"
   ]
  },
  {
   "cell_type": "code",
   "execution_count": 3,
   "id": "c591bffd",
   "metadata": {},
   "outputs": [
    {
     "name": "stdout",
     "output_type": "stream",
     "text": [
      "0\n"
     ]
    }
   ],
   "source": [
    "n = 22\n",
    "y= 2\n",
    "\n",
    "# % -- this is used for finding remainder\n",
    "x = n%y\n",
    "print(x)"
   ]
  },
  {
   "cell_type": "code",
   "execution_count": 9,
   "id": "c45cee9c",
   "metadata": {},
   "outputs": [
    {
     "name": "stdout",
     "output_type": "stream",
     "text": [
      "12\n",
      "2\n"
     ]
    }
   ],
   "source": [
    "N = int(input())\n",
    "\n",
    "str_num = str(N)\n",
    "result = 0\n",
    "for num in range(len(str_num)):\n",
    "    div_str_num = str_num[num]\n",
    "    div_num = int(div_str_num)\n",
    "    if N%div_num == 0:\n",
    "        result = result + 1\n",
    "    else:\n",
    "        pass\n",
    "print(result)"
   ]
  },
  {
   "cell_type": "code",
   "execution_count": 16,
   "id": "5f2c92f1",
   "metadata": {},
   "outputs": [
    {
     "name": "stdout",
     "output_type": "stream",
     "text": [
      "26435\n",
      "1\n"
     ]
    }
   ],
   "source": [
    "N = int(input())\n",
    "if 1<= N <= 10**5 :\n",
    "    result = 0\n",
    "    for num in range(len(str(N))):\n",
    "        div_num = int(str(N)[num])\n",
    "        if div_num != 0:\n",
    "            if N%div_num == 0:\n",
    "                result = result + 1\n",
    "            else:\n",
    "                pass\n",
    "    print(result)"
   ]
  },
  {
   "cell_type": "markdown",
   "id": "60547b9b",
   "metadata": {},
   "source": [
    "## by using print at the end we are getting none as output for some reason so use return"
   ]
  },
  {
   "cell_type": "code",
   "execution_count": null,
   "id": "c0eb49ed",
   "metadata": {},
   "outputs": [],
   "source": [
    "\n",
    "class Solution:\n",
    "    def evenlyDivides (self, N):\n",
    "        result = 0\n",
    "        for num in range(len(str(N))):\n",
    "            div_num = int(str(N)[num])\n",
    "            if div_num != 0:\n",
    "                if N%div_num == 0:\n",
    "                    result = result + 1\n",
    "        return result"
   ]
  },
  {
   "cell_type": "code",
   "execution_count": null,
   "id": "001d79dc",
   "metadata": {},
   "outputs": [],
   "source": []
  },
  {
   "cell_type": "markdown",
   "id": "559797ab",
   "metadata": {},
   "source": [
    "## Reverse Bits\n"
   ]
  },
  {
   "cell_type": "code",
   "execution_count": 35,
   "id": "d7060597",
   "metadata": {},
   "outputs": [
    {
     "name": "stdout",
     "output_type": "stream",
     "text": [
      "The reverse of the 123 is 321\n"
     ]
    }
   ],
   "source": [
    "N = 123\n",
    "num = N\n",
    "reverse = 0\n",
    "while N != 0:\n",
    "    digit = N % 10\n",
    "    reverse = reverse * 10 + digit\n",
    "    N = N // 10\n",
    "print(\"The reverse of the {} is {}\".format(num, reverse))"
   ]
  },
  {
   "cell_type": "code",
   "execution_count": 36,
   "id": "0e61340a",
   "metadata": {},
   "outputs": [
    {
     "name": "stdout",
     "output_type": "stream",
     "text": [
      "The reverse of the 123 is 321\n"
     ]
    }
   ],
   "source": [
    "N = 123\n",
    "\n",
    "str_num = str(N)\n",
    "reverse_num = str_num[::-1]\n",
    "print(\"The reverse of the {} is {}\".format(N, reverse))"
   ]
  },
  {
   "cell_type": "markdown",
   "id": "4e5b766a",
   "metadata": {},
   "source": [
    "### GFG"
   ]
  },
  {
   "cell_type": "code",
   "execution_count": 17,
   "id": "2af89f42",
   "metadata": {},
   "outputs": [
    {
     "ename": "SyntaxError",
     "evalue": "invalid syntax (4087306485.py, line 2)",
     "output_type": "error",
     "traceback": [
      "\u001b[1;36m  Input \u001b[1;32mIn [17]\u001b[1;36m\u001b[0m\n\u001b[1;33m    enter a number: 11001\u001b[0m\n\u001b[1;37m          ^\u001b[0m\n\u001b[1;31mSyntaxError\u001b[0m\u001b[1;31m:\u001b[0m invalid syntax\n"
     ]
    }
   ],
   "source": [
    "binary = raw_input('enter a number: ')\n",
    "enter a number: 11001\n",
    "int(binary, 2)"
   ]
  },
  {
   "cell_type": "code",
   "execution_count": 23,
   "id": "78cc47a6",
   "metadata": {},
   "outputs": [
    {
     "name": "stdout",
     "output_type": "stream",
     "text": [
      "1\n",
      "1\n"
     ]
    }
   ],
   "source": [
    "n = int(input())\n",
    "print('{0:b}'.format(n))"
   ]
  },
  {
   "cell_type": "code",
   "execution_count": null,
   "id": "2a6681d4",
   "metadata": {},
   "outputs": [],
   "source": [
    "'{:032b}'.format(n) where n is an integer. If the binary representation is greater than 32 digits it will expand as necessary:\n",
    "\n",
    ">>> '{:032b}'.format(100)\n",
    "'00000000000000000000000001100100'\n",
    ">>> '{:032b}'.format(8589934591)\n",
    "'111111111111111111111111111111111'\n",
    ">>> '{:032b}'.format(8589934591 + 1)\n",
    "'1000000000000000000000000000000000'    # N.B. this is 33 digits long"
   ]
  },
  {
   "cell_type": "code",
   "execution_count": 28,
   "id": "53a230c5",
   "metadata": {},
   "outputs": [
    {
     "name": "stdout",
     "output_type": "stream",
     "text": [
      "00000000000000000000000000000001\n",
      "10000000000000000000000000000000\n",
      "2147483648\n"
     ]
    }
   ],
   "source": [
    "x = 1\n",
    "\n",
    "bin_32 = \"{:032b}\".format(n)\n",
    "print(bin_32)\n",
    "reverse_bin = bin_32[::-1]\n",
    "print(reverse_bin)\n",
    "int_reverse_num = int(reverse_bin,2)\n",
    "print(int_reverse_num)"
   ]
  },
  {
   "cell_type": "code",
   "execution_count": 29,
   "id": "19ff0645",
   "metadata": {},
   "outputs": [
    {
     "name": "stdout",
     "output_type": "stream",
     "text": [
      "5\n",
      "2684354560\n"
     ]
    }
   ],
   "source": [
    "n = int(input())\n",
    "bin_32 = \"{:032b}\".format(n)\n",
    "reverse_bin = bin_32[::-1]\n",
    "int_reverse_num = int(reverse_bin,2)\n",
    "print(int_reverse_num)"
   ]
  },
  {
   "cell_type": "code",
   "execution_count": 30,
   "id": "31f5fa30",
   "metadata": {},
   "outputs": [
    {
     "name": "stdout",
     "output_type": "stream",
     "text": [
      "1\n"
     ]
    },
    {
     "data": {
      "text/plain": [
       "2147483648"
      ]
     },
     "execution_count": 30,
     "metadata": {},
     "output_type": "execute_result"
    }
   ],
   "source": [
    "def reversedBits(X):\n",
    "    bin_32 = \"{:032b}\".format(X)\n",
    "    reverse_bin = bin_32[::-1]\n",
    "    int_reverse_num = int(reverse_bin,2)\n",
    "    return int_reverse_num\n",
    "\n",
    "X = int(input())\n",
    "reversedBits(X)"
   ]
  },
  {
   "cell_type": "code",
   "execution_count": 32,
   "id": "ccb5a809",
   "metadata": {},
   "outputs": [
    {
     "name": "stdout",
     "output_type": "stream",
     "text": [
      "3\n",
      "32\n",
      "321\n",
      "321\n"
     ]
    }
   ],
   "source": [
    "N = 123\n",
    "num = N\n",
    "reverse = 0\n",
    "while N != 0:\n",
    "    digit = N % 10\n",
    "    reverse = reverse * 10 + digit\n",
    "    print(reverse)\n",
    "    N = N // 10\n",
    "print(reverse)"
   ]
  },
  {
   "cell_type": "code",
   "execution_count": null,
   "id": "2d9817a5",
   "metadata": {},
   "outputs": [],
   "source": [
    "class Solution(object):\n",
    "    def reverse(self, x):\n",
    "        \"\"\"\n",
    "        :type x: int\n",
    "        :rtype: int\n",
    "        \"\"\"\n",
    "        reverse_num = int(str(N)[::-1])\n",
    "        return reverse_num\n",
    "        "
   ]
  },
  {
   "cell_type": "code",
   "execution_count": null,
   "id": "8595bc19",
   "metadata": {},
   "outputs": [],
   "source": []
  },
  {
   "cell_type": "code",
   "execution_count": null,
   "id": "025d016c",
   "metadata": {},
   "outputs": [],
   "source": []
  },
  {
   "cell_type": "code",
   "execution_count": null,
   "id": "83a79d3a",
   "metadata": {},
   "outputs": [],
   "source": []
  },
  {
   "cell_type": "code",
   "execution_count": null,
   "id": "e1b79d0b",
   "metadata": {},
   "outputs": [],
   "source": []
  }
 ],
 "metadata": {
  "kernelspec": {
   "display_name": "Python 3 (ipykernel)",
   "language": "python",
   "name": "python3"
  },
  "language_info": {
   "codemirror_mode": {
    "name": "ipython",
    "version": 3
   },
   "file_extension": ".py",
   "mimetype": "text/x-python",
   "name": "python",
   "nbconvert_exporter": "python",
   "pygments_lexer": "ipython3",
   "version": "3.9.12"
  }
 },
 "nbformat": 4,
 "nbformat_minor": 5
}
